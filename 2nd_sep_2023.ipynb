{
  "nbformat": 4,
  "nbformat_minor": 0,
  "metadata": {
    "colab": {
      "provenance": []
    },
    "kernelspec": {
      "name": "python3",
      "display_name": "Python 3"
    },
    "language_info": {
      "name": "python"
    }
  },
  "cells": [
    {
      "cell_type": "markdown",
      "source": [
        "For Loop\n",
        "Assignment Questions"
      ],
      "metadata": {
        "id": "P-Ydqm_WTnKN"
      }
    },
    {
      "cell_type": "markdown",
      "source": [
        "Basic Level:"
      ],
      "metadata": {
        "id": "SwzbHHgJTrLJ"
      }
    },
    {
      "cell_type": "markdown",
      "source": [
        "1.Write a Python program to print the numbers from 1 to 10 using a for loop."
      ],
      "metadata": {
        "id": "yM8sJHmXVSOJ"
      }
    },
    {
      "cell_type": "code",
      "execution_count": null,
      "metadata": {
        "colab": {
          "base_uri": "https://localhost:8080/"
        },
        "id": "EiklZhCSTkFT",
        "outputId": "81698c7c-58a2-4032-db7e-056e4a788fca"
      },
      "outputs": [
        {
          "output_type": "stream",
          "name": "stdout",
          "text": [
            "1\n",
            "2\n",
            "3\n",
            "4\n",
            "5\n",
            "6\n",
            "7\n",
            "8\n",
            "9\n",
            "10\n"
          ]
        }
      ],
      "source": [
        "for i in range(1,11):\n",
        "  print(i)"
      ]
    },
    {
      "cell_type": "markdown",
      "source": [
        "2.Create a program that calculates the sum of all numbers in a list using a for loop."
      ],
      "metadata": {
        "id": "yWhF-7CBVbjL"
      }
    },
    {
      "cell_type": "code",
      "source": [
        "lst = [1,2,3,4,5,6,7,8,9,10]\n",
        "sum =0;\n",
        "for i in lst:\n",
        "  sum = sum+i\n",
        "print(f\"the sum of all number of list '{lst}'  is equal to {sum}\")\n"
      ],
      "metadata": {
        "colab": {
          "base_uri": "https://localhost:8080/"
        },
        "id": "makABfKrViDF",
        "outputId": "8cf43bc6-b31c-4596-c5e1-aa45bf8b7f14"
      },
      "execution_count": null,
      "outputs": [
        {
          "output_type": "stream",
          "name": "stdout",
          "text": [
            "the sum of all number of list '[1, 2, 3, 4, 5, 6, 7, 8, 9, 10]'  is equal to 55\n"
          ]
        }
      ]
    },
    {
      "cell_type": "markdown",
      "source": [
        "3.Write a program to print the characters of a string in reverse orer using a for loop.\n"
      ],
      "metadata": {
        "id": "PtLQbMnxViZb"
      }
    },
    {
      "cell_type": "code",
      "source": [
        "str_input =\"PWskills\"\n",
        "for i in range(len(str_input)-1,-1,-1):\n",
        "  print(str_input[i])\n"
      ],
      "metadata": {
        "colab": {
          "base_uri": "https://localhost:8080/"
        },
        "id": "EC7RQj-gVq34",
        "outputId": "8d5d8b7e-44e5-46d7-a7c7-363d76e24f55"
      },
      "execution_count": null,
      "outputs": [
        {
          "output_type": "stream",
          "name": "stdout",
          "text": [
            "s\n",
            "l\n",
            "l\n",
            "i\n",
            "k\n",
            "s\n",
            "W\n",
            "P\n"
          ]
        }
      ]
    },
    {
      "cell_type": "markdown",
      "source": [
        "4.Develop a program that finds the factorial of a given number usig a for loop."
      ],
      "metadata": {
        "id": "nBZH7mhxVrYB"
      }
    },
    {
      "cell_type": "code",
      "source": [
        "number = int(input(\"Enter the number :\"))\n",
        "fact =1\n",
        "for i in range(1,number+1):\n",
        "  fact=fact*i\n",
        "print(f\"The factorial of the  {number} is {fact}\")"
      ],
      "metadata": {
        "colab": {
          "base_uri": "https://localhost:8080/"
        },
        "id": "gG3RD9aWV0gw",
        "outputId": "9f5f8902-e2f7-4a03-a93b-ffbf8d4fa4e7"
      },
      "execution_count": null,
      "outputs": [
        {
          "output_type": "stream",
          "name": "stdout",
          "text": [
            "Enter the number :5\n",
            "The factorial of the  5 is 120\n"
          ]
        }
      ]
    },
    {
      "cell_type": "markdown",
      "source": [
        "5.Create a program to print the multiplication table of a given number using a for loop."
      ],
      "metadata": {
        "id": "prg7cZbRV1FQ"
      }
    },
    {
      "cell_type": "code",
      "source": [
        "number = int(input(\"Enter the number: \"))\n",
        "for i in range(1,11):\n",
        "  print(f\"{number} * {i} = {number*i}\")"
      ],
      "metadata": {
        "colab": {
          "base_uri": "https://localhost:8080/"
        },
        "id": "cuLECeWcV8sN",
        "outputId": "a464a64e-2686-4c7b-bbf8-8bc4cd08cfa1"
      },
      "execution_count": null,
      "outputs": [
        {
          "output_type": "stream",
          "name": "stdout",
          "text": [
            "Enter the number: 3\n",
            "3 * 1 = 3\n",
            "3 * 2 = 6\n",
            "3 * 3 = 9\n",
            "3 * 4 = 12\n",
            "3 * 5 = 15\n",
            "3 * 6 = 18\n",
            "3 * 7 = 21\n",
            "3 * 8 = 24\n",
            "3 * 9 = 27\n",
            "3 * 10 = 30\n"
          ]
        }
      ]
    },
    {
      "cell_type": "markdown",
      "source": [
        "6.Write a program that counts the number of even and odd numebers in a list using a for loop."
      ],
      "metadata": {
        "id": "hgh5K-6AV9TG"
      }
    },
    {
      "cell_type": "code",
      "source": [
        "lst =[1,2,3,4,5,6,7,8,9,10,11,12,13,14,15,16,17,18,19,20]\n",
        "count_even=0\n",
        "count_odd =0\n",
        "for i in range(1,len(lst)):\n",
        "  if lst[i]%2==0:\n",
        "    count_even +=1\n",
        "  else:\n",
        "    count_odd+=1\n",
        "print(\"the even number is: \",count_even)\n",
        "print(\"the odd number is: \",count_odd)"
      ],
      "metadata": {
        "colab": {
          "base_uri": "https://localhost:8080/"
        },
        "id": "TYnbDhT5WEq4",
        "outputId": "7b61f242-6700-4610-87b8-5c881a45aaa0"
      },
      "execution_count": null,
      "outputs": [
        {
          "output_type": "stream",
          "name": "stdout",
          "text": [
            "the even number is:  10\n",
            "the odd number is:  9\n"
          ]
        }
      ]
    },
    {
      "cell_type": "markdown",
      "source": [
        "7.Develop a program that prints the squares of numbers from 1 to 5 using a for loop."
      ],
      "metadata": {
        "id": "O1x3cXqNWFDE"
      }
    },
    {
      "cell_type": "code",
      "source": [
        "for i in range(1,6):\n",
        "  print(i*i)"
      ],
      "metadata": {
        "colab": {
          "base_uri": "https://localhost:8080/"
        },
        "id": "A_ck_1gEWMX5",
        "outputId": "acb188d0-f7af-47b1-b028-ad357a7320b6"
      },
      "execution_count": null,
      "outputs": [
        {
          "output_type": "stream",
          "name": "stdout",
          "text": [
            "1\n",
            "4\n",
            "9\n",
            "16\n",
            "25\n"
          ]
        }
      ]
    },
    {
      "cell_type": "markdown",
      "source": [
        "8.Create a program to find the length of a string without using the len() funtion."
      ],
      "metadata": {
        "id": "xlOP-ITgWaDI"
      }
    },
    {
      "cell_type": "code",
      "source": [
        "string1=\"rupeshdaha\"\n",
        "count_len=0\n",
        "for i in string1:\n",
        "  count_len +=1\n",
        "\n",
        "print(f\"The string '{string1}' length is {count_len}\")\n",
        "\n"
      ],
      "metadata": {
        "colab": {
          "base_uri": "https://localhost:8080/"
        },
        "id": "MhWX07esWhei",
        "outputId": "98fc1eb1-5659-48da-dfce-2d7da6d5efe5"
      },
      "execution_count": null,
      "outputs": [
        {
          "output_type": "stream",
          "name": "stdout",
          "text": [
            "The string 'rupeshdaha' length is 10\n"
          ]
        }
      ]
    },
    {
      "cell_type": "markdown",
      "source": [
        "9.Write a program that calculates the average of a list of numbers using a for loop."
      ],
      "metadata": {
        "id": "j_-K8W1dWh3W"
      }
    },
    {
      "cell_type": "code",
      "source": [
        "lst = [1,2,3,4,5,6,7,8,9,10]\n",
        "sum=0\n",
        "for i in lst:\n",
        "  sum = sum+i\n",
        "\n",
        "average= sum/len(lst)\n",
        "print(f\"the average of a list is: {average}\")"
      ],
      "metadata": {
        "colab": {
          "base_uri": "https://localhost:8080/"
        },
        "id": "CHJ1fPvPWpYE",
        "outputId": "250df8a7-8d64-480d-f1b0-7c9feea6533d"
      },
      "execution_count": null,
      "outputs": [
        {
          "output_type": "stream",
          "name": "stdout",
          "text": [
            "the average of a list is: 5.5\n"
          ]
        }
      ]
    },
    {
      "cell_type": "markdown",
      "source": [
        "10.Develop a program that prints the first 'n' fibonacci numbers using a for loop."
      ],
      "metadata": {
        "id": "_gph_9NGWp3I"
      }
    },
    {
      "cell_type": "code",
      "source": [
        "n= int(input(\"Enter the number\"))\n",
        "fib_numbers = []\n",
        "a, b = 0, 1\n",
        "for _ in range(n):\n",
        "  fib_numbers.append(a)\n",
        "  a, b = b, a + b\n",
        "\n",
        "print(\"The first\", n, \"Fibonacci numbers are:\")\n",
        "for num in fib_numbers:\n",
        "    print(num, end=\" \")"
      ],
      "metadata": {
        "colab": {
          "base_uri": "https://localhost:8080/"
        },
        "id": "goky7iiZWxWG",
        "outputId": "a8235b36-aaec-437a-b6e6-91e70c2a5561"
      },
      "execution_count": null,
      "outputs": [
        {
          "output_type": "stream",
          "name": "stdout",
          "text": [
            "Enter the number5\n",
            "The first 5 Fibonacci numbers are:\n",
            "0 1 1 2 3 "
          ]
        }
      ]
    },
    {
      "cell_type": "code",
      "source": [],
      "metadata": {
        "id": "Wejk3NQ1Sl1U"
      },
      "execution_count": null,
      "outputs": []
    },
    {
      "cell_type": "markdown",
      "source": [
        "11.Write a program to check if given list contains any duplicates using a'for'loop."
      ],
      "metadata": {
        "id": "BZj4yv_Pewgn"
      }
    },
    {
      "cell_type": "code",
      "source": [
        "lst=[2,3,5,2,8,9,10]  #example of list with duplicates value\n",
        "check_duplicate=0\n",
        "check=False\n",
        "for i in range(len(lst)):          # fist for loop\n",
        "  for j in range(len(lst)):         #second for loop and logic\n",
        "    if (lst[i]==lst[j]):\n",
        "      check_duplicate+=1\n",
        "      if(check_duplicate==2):\n",
        "        check=True\n",
        "        break\n",
        "  check_duplicate=0\n",
        "if(check):\n",
        "  print(\"list contains duplicates...\")  # print duplicates if contains\n",
        "else:\n",
        "  print(\"List doesnot contains duplicates..\")\n",
        "\n"
      ],
      "metadata": {
        "id": "vJAQ9zpPfY6k",
        "colab": {
          "base_uri": "https://localhost:8080/"
        },
        "outputId": "572bc1ca-6133-465f-8b65-51b5bd48f5e7"
      },
      "execution_count": null,
      "outputs": [
        {
          "output_type": "stream",
          "name": "stdout",
          "text": [
            "list contains duplicates...\n"
          ]
        }
      ]
    },
    {
      "cell_type": "markdown",
      "source": [
        "12.create a program that prints the prime numbers in a given range using a'for'loop."
      ],
      "metadata": {
        "id": "0CeNaClQfZeC"
      }
    },
    {
      "cell_type": "code",
      "source": [
        "lower=int(input(\"Enter lower value:\"))\n",
        "upper=int(input(\"Enter upper value: \"))\n",
        "for num in range(lower, upper+1):\n",
        "  if num>1:\n",
        "    for i in range(2,num):\n",
        "      if num%i==0:\n",
        "        break\n",
        "    else:\n",
        "      print(num)\n"
      ],
      "metadata": {
        "id": "acLujK0hf0y_",
        "colab": {
          "base_uri": "https://localhost:8080/"
        },
        "outputId": "545c27a9-5631-4b16-c19f-267977f8df33"
      },
      "execution_count": null,
      "outputs": [
        {
          "output_type": "stream",
          "name": "stdout",
          "text": [
            "Enter lower value:1\n",
            "Enter upper value: 10\n",
            "2\n",
            "3\n",
            "5\n",
            "7\n"
          ]
        }
      ]
    },
    {
      "cell_type": "markdown",
      "source": [
        "13.Develop a program that counts the number of vowels in a string using a'for'loop."
      ],
      "metadata": {
        "id": "uZan1-Unf2P-"
      }
    },
    {
      "cell_type": "code",
      "source": [
        "str1=\"RupeshKumarDaha\"\n",
        "cout_vowel=0\n",
        "vowel=\"aeiou\"\n",
        "for i in str1:\n",
        "  if i.lower() in vowel:\n",
        "    cout_vowel+=1\n",
        "print(f\"the total numbers of vowels in '{str1}' is {cout_vowel}\")"
      ],
      "metadata": {
        "id": "BIJMDAbjgQew",
        "colab": {
          "base_uri": "https://localhost:8080/"
        },
        "outputId": "17bae288-27d2-4c1d-ac3f-27d05aefdd17"
      },
      "execution_count": null,
      "outputs": [
        {
          "output_type": "stream",
          "name": "stdout",
          "text": [
            "the total numbers of vowels in 'RupeshKumarDaha' is 6\n"
          ]
        }
      ]
    },
    {
      "cell_type": "markdown",
      "source": [
        "14.Write a program to find the maximum element in a 2D list using a nested'for'loop."
      ],
      "metadata": {
        "id": "w9bcX_uhg5zr"
      }
    },
    {
      "cell_type": "code",
      "source": [
        "lst=[[2,3,4],[90,12,34],[45,23,78]]\n",
        "max_element=0\n",
        "for i in lst:\n",
        "  for j in i:\n",
        "    if j>max_element:\n",
        "      max_element=j\n",
        "print(f\"the maximum element from this list '{lst}' is equal to:: '{max_element}'\")\n"
      ],
      "metadata": {
        "id": "zHrcIKL5h_Q5",
        "colab": {
          "base_uri": "https://localhost:8080/"
        },
        "outputId": "f750dc39-063a-4140-ec06-6a12cea9ba87"
      },
      "execution_count": null,
      "outputs": [
        {
          "output_type": "stream",
          "name": "stdout",
          "text": [
            "the maximum element from this list '[[2, 3, 4], [90, 12, 34], [45, 23, 78]]' is equal to:: '90'\n"
          ]
        }
      ]
    },
    {
      "cell_type": "markdown",
      "source": [
        "15.create a program that removes all occrrences of a specific element from a list using a 'for'loop."
      ],
      "metadata": {
        "id": "zHW-z64ph_6Z"
      }
    },
    {
      "cell_type": "code",
      "source": [
        "lst=[2,3,4,5,2,3,4,7,2,9,10]  # sample list\n",
        "element=int(input(\"Enter the element: \"))\n",
        "for i in lst:\n",
        "  if i==element:\n",
        "    lst.remove(element)      # removing the element by element\n",
        "print(f\"After removing element '{element}' then the list is '{lst}'\")  #final output\n",
        "\n",
        "\n"
      ],
      "metadata": {
        "id": "EY2JMKAyjHg6",
        "colab": {
          "base_uri": "https://localhost:8080/"
        },
        "outputId": "cd26fe5e-defc-4868-ccf4-3dbb0041f8bd"
      },
      "execution_count": null,
      "outputs": [
        {
          "output_type": "stream",
          "name": "stdout",
          "text": [
            "Enter the element: 3\n",
            "After removing element '3' then the list is '[2, 4, 5, 2, 4, 7, 2, 9, 10]'\n"
          ]
        }
      ]
    },
    {
      "cell_type": "markdown",
      "source": [
        "16.Develop a program that generates a multiplication table for numbers form 1 to 5 usingn a nested."
      ],
      "metadata": {
        "id": "UVpDRwFSjITN"
      }
    },
    {
      "cell_type": "code",
      "source": [
        "start= int(input(\"Enter the fist number: \"))\n",
        "end= int(input(\"Enter the end number: \"))\n",
        "for i in range(start,end+1):\n",
        "  for j in range(1,11):\n",
        "    result = i*j\n",
        "    print(f\"{i} x {j} = {result} \\t\")\n",
        "  print()"
      ],
      "metadata": {
        "colab": {
          "base_uri": "https://localhost:8080/"
        },
        "id": "DkPCNy6LdLeG",
        "outputId": "4aabbd32-173d-44aa-f4e2-39df514b41c6"
      },
      "execution_count": null,
      "outputs": [
        {
          "output_type": "stream",
          "name": "stdout",
          "text": [
            "Enter the fist number: 1\n",
            "Enter the end number: 10\n",
            "1 x 1 = 1 \t\n",
            "1 x 2 = 2 \t\n",
            "1 x 3 = 3 \t\n",
            "1 x 4 = 4 \t\n",
            "1 x 5 = 5 \t\n",
            "1 x 6 = 6 \t\n",
            "1 x 7 = 7 \t\n",
            "1 x 8 = 8 \t\n",
            "1 x 9 = 9 \t\n",
            "1 x 10 = 10 \t\n",
            "\n",
            "2 x 1 = 2 \t\n",
            "2 x 2 = 4 \t\n",
            "2 x 3 = 6 \t\n",
            "2 x 4 = 8 \t\n",
            "2 x 5 = 10 \t\n",
            "2 x 6 = 12 \t\n",
            "2 x 7 = 14 \t\n",
            "2 x 8 = 16 \t\n",
            "2 x 9 = 18 \t\n",
            "2 x 10 = 20 \t\n",
            "\n",
            "3 x 1 = 3 \t\n",
            "3 x 2 = 6 \t\n",
            "3 x 3 = 9 \t\n",
            "3 x 4 = 12 \t\n",
            "3 x 5 = 15 \t\n",
            "3 x 6 = 18 \t\n",
            "3 x 7 = 21 \t\n",
            "3 x 8 = 24 \t\n",
            "3 x 9 = 27 \t\n",
            "3 x 10 = 30 \t\n",
            "\n",
            "4 x 1 = 4 \t\n",
            "4 x 2 = 8 \t\n",
            "4 x 3 = 12 \t\n",
            "4 x 4 = 16 \t\n",
            "4 x 5 = 20 \t\n",
            "4 x 6 = 24 \t\n",
            "4 x 7 = 28 \t\n",
            "4 x 8 = 32 \t\n",
            "4 x 9 = 36 \t\n",
            "4 x 10 = 40 \t\n",
            "\n",
            "5 x 1 = 5 \t\n",
            "5 x 2 = 10 \t\n",
            "5 x 3 = 15 \t\n",
            "5 x 4 = 20 \t\n",
            "5 x 5 = 25 \t\n",
            "5 x 6 = 30 \t\n",
            "5 x 7 = 35 \t\n",
            "5 x 8 = 40 \t\n",
            "5 x 9 = 45 \t\n",
            "5 x 10 = 50 \t\n",
            "\n",
            "6 x 1 = 6 \t\n",
            "6 x 2 = 12 \t\n",
            "6 x 3 = 18 \t\n",
            "6 x 4 = 24 \t\n",
            "6 x 5 = 30 \t\n",
            "6 x 6 = 36 \t\n",
            "6 x 7 = 42 \t\n",
            "6 x 8 = 48 \t\n",
            "6 x 9 = 54 \t\n",
            "6 x 10 = 60 \t\n",
            "\n",
            "7 x 1 = 7 \t\n",
            "7 x 2 = 14 \t\n",
            "7 x 3 = 21 \t\n",
            "7 x 4 = 28 \t\n",
            "7 x 5 = 35 \t\n",
            "7 x 6 = 42 \t\n",
            "7 x 7 = 49 \t\n",
            "7 x 8 = 56 \t\n",
            "7 x 9 = 63 \t\n",
            "7 x 10 = 70 \t\n",
            "\n",
            "8 x 1 = 8 \t\n",
            "8 x 2 = 16 \t\n",
            "8 x 3 = 24 \t\n",
            "8 x 4 = 32 \t\n",
            "8 x 5 = 40 \t\n",
            "8 x 6 = 48 \t\n",
            "8 x 7 = 56 \t\n",
            "8 x 8 = 64 \t\n",
            "8 x 9 = 72 \t\n",
            "8 x 10 = 80 \t\n",
            "\n",
            "9 x 1 = 9 \t\n",
            "9 x 2 = 18 \t\n",
            "9 x 3 = 27 \t\n",
            "9 x 4 = 36 \t\n",
            "9 x 5 = 45 \t\n",
            "9 x 6 = 54 \t\n",
            "9 x 7 = 63 \t\n",
            "9 x 8 = 72 \t\n",
            "9 x 9 = 81 \t\n",
            "9 x 10 = 90 \t\n",
            "\n",
            "10 x 1 = 10 \t\n",
            "10 x 2 = 20 \t\n",
            "10 x 3 = 30 \t\n",
            "10 x 4 = 40 \t\n",
            "10 x 5 = 50 \t\n",
            "10 x 6 = 60 \t\n",
            "10 x 7 = 70 \t\n",
            "10 x 8 = 80 \t\n",
            "10 x 9 = 90 \t\n",
            "10 x 10 = 100 \t\n",
            "\n"
          ]
        }
      ]
    },
    {
      "cell_type": "markdown",
      "source": [
        "17.Write a program that converts a list of Fahrenheit temperatures to celssius using a for loop.\n"
      ],
      "metadata": {
        "id": "HkeFHWBTkas0"
      }
    },
    {
      "cell_type": "code",
      "source": [
        "Fahrenheit_lst=[91,92,89,90.3,99.7,98.7,95.6,97.6]\n",
        "celsius_lst=[]\n",
        "for i in Fahrenheit_lst:\n",
        "  celsius_value=round(((float(i)-32)*5)/9,2)\n",
        "\n",
        "  celsius_lst.append(celsius_value)\n",
        "\n",
        "print(f\"the fahrenheit list is '{Fahrenheit_lst}' and their celsius conversion list is '{celsius_lst}'\")\n"
      ],
      "metadata": {
        "id": "NDYbCqHJkioo",
        "colab": {
          "base_uri": "https://localhost:8080/"
        },
        "outputId": "b2a1e0d8-d6c8-44bc-f9ce-938859693ba6"
      },
      "execution_count": null,
      "outputs": [
        {
          "output_type": "stream",
          "name": "stdout",
          "text": [
            "the fahrenheit list is '[91, 92, 89, 90.3, 99.7, 98.7, 95.6, 97.6]' and their celsius conversion list is '[32.78, 33.33, 31.67, 32.39, 37.61, 37.06, 35.33, 36.44]'\n"
          ]
        }
      ]
    },
    {
      "cell_type": "markdown",
      "source": [
        "18.Create a program to print the common elements from two lists using a `for` loop"
      ],
      "metadata": {
        "id": "t0oKnzUykjEI"
      }
    },
    {
      "cell_type": "code",
      "source": [
        "lst1=[2,4,6,8,9,10,12,13,14]\n",
        "lst2=[2,3,5,6,7,8,9,10,2]\n",
        "list_common_element=[]\n",
        "for i in lst1:\n",
        "  for j in lst2:\n",
        "    if i==j:\n",
        "      list_common_element.append(j)\n",
        "\n",
        "print(list(set(list_common_element)))\n"
      ],
      "metadata": {
        "id": "N7e7IWGekxAP",
        "colab": {
          "base_uri": "https://localhost:8080/"
        },
        "outputId": "6016ff64-f3ac-40ee-deb5-b73aed1ecb9f"
      },
      "execution_count": null,
      "outputs": [
        {
          "output_type": "stream",
          "name": "stdout",
          "text": [
            "[2, 6, 8, 9, 10]\n"
          ]
        }
      ]
    },
    {
      "cell_type": "code",
      "source": [],
      "metadata": {
        "id": "3wLjVZEWi-Ag"
      },
      "execution_count": null,
      "outputs": []
    },
    {
      "cell_type": "markdown",
      "source": [
        "19.Create a program that prints the pattrn of right-angled triangles using a for loop . Use '*' to drow pattern"
      ],
      "metadata": {
        "id": "8ZiG8d6kkxrL"
      }
    },
    {
      "cell_type": "code",
      "source": [
        "num_rows = int(input(\"Enter the number of rows: \"))\n",
        "\n",
        "for i in range(1, num_rows + 1):\n",
        "    for j in range(i):\n",
        "        print('*', end='')\n",
        "    print()\n"
      ],
      "metadata": {
        "id": "eFOHBHaOlOnF",
        "colab": {
          "base_uri": "https://localhost:8080/"
        },
        "outputId": "ae48183a-3cb1-4640-cf78-4f4594657ee5"
      },
      "execution_count": null,
      "outputs": [
        {
          "output_type": "stream",
          "name": "stdout",
          "text": [
            "Enter the number of rows: 5\n",
            "*\n",
            "**\n",
            "***\n",
            "****\n",
            "*****\n"
          ]
        }
      ]
    },
    {
      "cell_type": "markdown",
      "source": [
        "20.Write a program to find the greatest common divisor (GCD) of two numbers using a `for` loop."
      ],
      "metadata": {
        "id": "8PEULncagRNh"
      }
    },
    {
      "cell_type": "code",
      "source": [
        "num1 = int(input(\"Enter the first number: \"))\n",
        "num2 = int(input(\"Enter the second number: \"))\n",
        "\n",
        "if num1 < num2:\n",
        "    smaller = num1\n",
        "else:\n",
        "    smaller = num2\n",
        "\n",
        "gcd = 1\n",
        "\n",
        "for i in range(1, smaller + 1):\n",
        "    if num1 % i == 0 and num2 % i == 0:\n",
        "        gcd = i\n",
        "\n",
        "print(f\"The GCD of {num1} and {num2} is {gcd}\")\n"
      ],
      "metadata": {
        "id": "mZ8mydZtlL86",
        "colab": {
          "base_uri": "https://localhost:8080/"
        },
        "outputId": "c0566d7a-1d11-451b-e918-9713f612fbcd"
      },
      "execution_count": null,
      "outputs": [
        {
          "output_type": "stream",
          "name": "stdout",
          "text": [
            "Enter the first number: 40\n",
            "Enter the second number: 100\n",
            "The GCD of 40 and 100 is 20\n"
          ]
        }
      ]
    },
    {
      "cell_type": "markdown",
      "source": [
        "Advanced Level:"
      ],
      "metadata": {
        "id": "O1PTz33bla0O"
      }
    },
    {
      "cell_type": "markdown",
      "source": [
        "21.Create a program that calculates the sum of the digits of numbers in a list using a list comprehension."
      ],
      "metadata": {
        "id": "e2bKjG7vldfp"
      }
    },
    {
      "cell_type": "code",
      "source": [],
      "metadata": {
        "id": "psRaLW2Kli0_"
      },
      "execution_count": null,
      "outputs": []
    },
    {
      "cell_type": "markdown",
      "source": [
        "22.Write a program to find the prime factors of a given number using a `for` loop and list comprehension."
      ],
      "metadata": {
        "id": "x-eU5cSylp9s"
      }
    },
    {
      "cell_type": "code",
      "source": [
        "numbers = [123, 45, 6789, 987]       # List of numbers\n",
        "# List comprehension\n",
        "digit_sums = [sum(int(digit) for digit in str(number)) for number in numbers]\n",
        "\n",
        "# Print the result\n",
        "print(\"Original Numbers:\", numbers)\n",
        "print(\"Sum of Digits:\", digit_sums)\n"
      ],
      "metadata": {
        "id": "Bw8aFXEOl5Oi",
        "colab": {
          "base_uri": "https://localhost:8080/"
        },
        "outputId": "1685d2e2-af88-4384-e353-06aaf294fc7a"
      },
      "execution_count": 1,
      "outputs": [
        {
          "output_type": "stream",
          "name": "stdout",
          "text": [
            "Original Numbers: [123, 45, 6789, 987]\n",
            "Sum of Digits: [6, 9, 30, 24]\n"
          ]
        }
      ]
    },
    {
      "cell_type": "markdown",
      "source": [
        "23. Develop a program that extracts unique elements from a list and stores them in a new list using a list\n",
        "comprehension."
      ],
      "metadata": {
        "id": "u7y5fg9Jl5zj"
      }
    },
    {
      "cell_type": "code",
      "source": [
        "original_list = [1, 2, 2, 3, 4, 4, 5, 6, 6]\n",
        "unique_elements = [x for i, x in enumerate(original_list) if x not in original_list[:i]]\n",
        "\n",
        "print(\"Original List:\", original_list)\n",
        "print(\"Unique Elements:\", unique_elements)\n"
      ],
      "metadata": {
        "id": "lIIyluyEtB5s",
        "colab": {
          "base_uri": "https://localhost:8080/"
        },
        "outputId": "26a6d896-237e-418f-fa2d-8ee9b24cefe3"
      },
      "execution_count": 3,
      "outputs": [
        {
          "output_type": "stream",
          "name": "stdout",
          "text": [
            "Original List: [1, 2, 2, 3, 4, 4, 5, 6, 6]\n",
            "Unique Elements: [1, 2, 3, 4, 5, 6]\n"
          ]
        }
      ]
    },
    {
      "cell_type": "markdown",
      "source": [
        "24.Create a program that generates list of all palindromic numbers up to a specified limit using a list comprehension."
      ],
      "metadata": {
        "id": "o-d-uZwhvQss"
      }
    },
    {
      "cell_type": "code",
      "source": [
        "limit = 100\n",
        "palindromic_numbers = [num for num in range(limit + 1) if str(num) == str(num)[::-1]]\n",
        "\n",
        "print(\"Palindromic Numbers up to {}: {}\".format(limit, palindromic_numbers))\n"
      ],
      "metadata": {
        "id": "eUZSD2GsviMn",
        "colab": {
          "base_uri": "https://localhost:8080/"
        },
        "outputId": "5aba8ddd-c3cf-43d9-c908-33c68c9e4ac3"
      },
      "execution_count": 5,
      "outputs": [
        {
          "output_type": "stream",
          "name": "stdout",
          "text": [
            "Palindromic Numbers up to 100: [0, 1, 2, 3, 4, 5, 6, 7, 8, 9, 11, 22, 33, 44, 55, 66, 77, 88, 99]\n"
          ]
        }
      ]
    },
    {
      "cell_type": "markdown",
      "source": [
        "25.Write a program to flatten a nested list using list comprehension"
      ],
      "metadata": {
        "id": "Ac11VxYFviuc"
      }
    },
    {
      "cell_type": "code",
      "source": [
        "nested_list = [[1, 2, 3], [4, 5], [6, 7, 8]]\n",
        "\n",
        "flattened_list = [element for sublist in nested_list for element in sublist]\n",
        "\n",
        "print(\"Original Nested List:\", nested_list)\n",
        "print(\"Flattened List:\", flattened_list)\n"
      ],
      "metadata": {
        "id": "m6X_3eiWY_Jk",
        "colab": {
          "base_uri": "https://localhost:8080/"
        },
        "outputId": "01ff630e-8f95-4d34-dd96-ee0effd6b6ab"
      },
      "execution_count": 6,
      "outputs": [
        {
          "output_type": "stream",
          "name": "stdout",
          "text": [
            "Original Nested List: [[1, 2, 3], [4, 5], [6, 7, 8]]\n",
            "Flattened List: [1, 2, 3, 4, 5, 6, 7, 8]\n"
          ]
        }
      ]
    },
    {
      "cell_type": "markdown",
      "source": [
        "26.Develop a program that computes the sum of even and odd numbers in a list separately using list\n",
        "comprehension."
      ],
      "metadata": {
        "id": "IgA8lUATvpcK"
      }
    },
    {
      "cell_type": "code",
      "source": [
        "numbers = [1, 2, 3, 4, 5, 6, 7, 8, 9, 10]\n",
        "\n",
        "even_numbers = [x for x in numbers if x % 2 == 0]\n",
        "odd_numbers = [x for x in numbers if x % 2 != 0]\n",
        "\n",
        "sum_even = sum(even_numbers)\n",
        "sum_odd = sum(odd_numbers)\n",
        "\n",
        "print(\"Original Numbers:\", numbers)\n",
        "print(\"Even Numbers:\", even_numbers)\n",
        "print(\"Sum of Even Numbers:\", sum_even)\n",
        "print(\"Odd Numbers:\", odd_numbers)\n",
        "print(\"Sum of Odd Numbers:\", sum_odd)\n"
      ],
      "metadata": {
        "id": "Aq34Lqx_vr_v",
        "colab": {
          "base_uri": "https://localhost:8080/"
        },
        "outputId": "02de1965-5833-451b-f26b-9b87be2f5dee"
      },
      "execution_count": 7,
      "outputs": [
        {
          "output_type": "stream",
          "name": "stdout",
          "text": [
            "Original Numbers: [1, 2, 3, 4, 5, 6, 7, 8, 9, 10]\n",
            "Even Numbers: [2, 4, 6, 8, 10]\n",
            "Sum of Even Numbers: 30\n",
            "Odd Numbers: [1, 3, 5, 7, 9]\n",
            "Sum of Odd Numbers: 25\n"
          ]
        }
      ]
    },
    {
      "cell_type": "markdown",
      "source": [
        "27.Create a program that generates a list of squares of odd numbers between 1 and 10 using list\n",
        "comprehension."
      ],
      "metadata": {
        "id": "VI3FFxylvtVa"
      }
    },
    {
      "cell_type": "code",
      "source": [
        "squares_of_odd_numbers = [x**2 for x in range(1, 11) if x % 2 != 0]\n",
        "print(\"Squares of Odd Numbers between 1 and 10:\", squares_of_odd_numbers)\n"
      ],
      "metadata": {
        "id": "Wye1LOe7vw5J",
        "colab": {
          "base_uri": "https://localhost:8080/"
        },
        "outputId": "c2adcc11-9336-4708-e9c4-897ce4223112"
      },
      "execution_count": 8,
      "outputs": [
        {
          "output_type": "stream",
          "name": "stdout",
          "text": [
            "Squares of Odd Numbers between 1 and 10: [1, 9, 25, 49, 81]\n"
          ]
        }
      ]
    },
    {
      "cell_type": "markdown",
      "source": [
        "28.Write a program that combines two lists into a dictionary using list comprehension"
      ],
      "metadata": {
        "id": "WEViHYYIqW7J"
      }
    },
    {
      "cell_type": "code",
      "source": [
        "keys = ['a', 'b', 'c']\n",
        "values = [1, 2, 3]\n",
        "combined_dict = {keys[i]: values[i] for i in range(len(keys))}\n",
        "print(\"Combined Dictionary:\", combined_dict)\n"
      ],
      "metadata": {
        "id": "85uO13e7qh6v",
        "colab": {
          "base_uri": "https://localhost:8080/"
        },
        "outputId": "cfe43f49-6808-4e2d-f089-4af91a9b0bfa"
      },
      "execution_count": 9,
      "outputs": [
        {
          "output_type": "stream",
          "name": "stdout",
          "text": [
            "Combined Dictionary: {'a': 1, 'b': 2, 'c': 3}\n"
          ]
        }
      ]
    },
    {
      "cell_type": "markdown",
      "source": [
        "29.Develop a program that extracts the vowels from a string and stores them in a list using list comprehension."
      ],
      "metadata": {
        "id": "vFgE0AVVqiOw"
      }
    },
    {
      "cell_type": "code",
      "source": [
        "input_string = \"Hello, World!\"\n",
        "vowels = [char for char in input_string if char.lower() in 'aeiou']\n",
        "print(\"Input String:\", input_string)\n",
        "print(\"Vowels:\", vowels)\n"
      ],
      "metadata": {
        "id": "u3aMfFhwqnGj",
        "colab": {
          "base_uri": "https://localhost:8080/"
        },
        "outputId": "dff7717a-29b3-496f-8486-04838bd9c990"
      },
      "execution_count": 10,
      "outputs": [
        {
          "output_type": "stream",
          "name": "stdout",
          "text": [
            "Input String: Hello, World!\n",
            "Vowels: ['e', 'o', 'o']\n"
          ]
        }
      ]
    },
    {
      "cell_type": "markdown",
      "source": [
        " 30.Create a program that removes all non-numeric characters from a list of strings using list comprehension"
      ],
      "metadata": {
        "id": "pGlOuGvpqnYm"
      }
    },
    {
      "cell_type": "code",
      "source": [
        "strings_with_non_numeric = [\"abc123\", \"456def\", \"789xyz\", \"12345\"]\n",
        "\n",
        "numeric_strings = [''.join(char for char in string if char.isnumeric()) for string in strings_with_non_numeric]\n",
        "\n",
        "print(\"Original List of Strings:\", strings_with_non_numeric)\n",
        "print(\"Numeric Strings:\", numeric_strings)\n"
      ],
      "metadata": {
        "id": "38dMQd6aqwi3",
        "colab": {
          "base_uri": "https://localhost:8080/"
        },
        "outputId": "41c7e405-58c1-4a95-9344-4c90c67f9187"
      },
      "execution_count": 31,
      "outputs": [
        {
          "output_type": "stream",
          "name": "stdout",
          "text": [
            "Original List of Strings: ['abc123', '456def', '789xyz', '12345']\n",
            "Numeric Strings: ['123', '456', '789', '12345']\n"
          ]
        }
      ]
    },
    {
      "cell_type": "markdown",
      "source": [
        "Challenge Level::"
      ],
      "metadata": {
        "id": "ZIZFDtMPusc1"
      }
    },
    {
      "cell_type": "markdown",
      "source": [
        "31.Write a program to generate a list of prime numbers using the Sieve of Eratosthenes algorithm and list\n",
        "comprehension"
      ],
      "metadata": {
        "id": "mFinSkqhuxxv"
      }
    },
    {
      "cell_type": "code",
      "source": [
        "n = 50\n",
        "is_prime = [True] * (n+1)\n",
        "is_prime[0:2] = [False, False]\n",
        "\n",
        "for p in range(2, int(n**0.5) + 1):\n",
        "    if is_prime[p]:\n",
        "        for i in range(p * p, n+1, p):\n",
        "            is_prime[i] = False\n",
        "\n",
        "primes = [p for p in range(2, n+1) if is_prime[p]]\n",
        "print(primes)\n"
      ],
      "metadata": {
        "id": "6NRcRDpPu4Or",
        "colab": {
          "base_uri": "https://localhost:8080/"
        },
        "outputId": "cd8f7273-a209-4a06-f8f3-a3f47b812504"
      },
      "execution_count": 14,
      "outputs": [
        {
          "output_type": "stream",
          "name": "stdout",
          "text": [
            "[2, 3, 5, 7, 11, 13, 17, 19, 23, 29, 31, 37, 41, 43, 47]\n"
          ]
        }
      ]
    },
    {
      "cell_type": "markdown",
      "source": [
        "32.Create a program that generates a list of all Pythagorean triplets up to a specified limit using list\n",
        "comprehension."
      ],
      "metadata": {
        "id": "F8E2yexZu4f1"
      }
    },
    {
      "cell_type": "code",
      "source": [
        "limit = 30\n",
        "pythagorean_triplets = []\n",
        "for a in range(1, limit + 1):\n",
        "    for b in range(a, limit + 1):\n",
        "        for c in range(b, limit + 1):\n",
        "            if a**2 + b**2 == c**2:\n",
        "                pythagorean_triplets.append((a, b, c))\n",
        "print(pythagorean_triplets)\n"
      ],
      "metadata": {
        "id": "IcEGmShKvA8k",
        "colab": {
          "base_uri": "https://localhost:8080/"
        },
        "outputId": "4066637e-b66a-4552-edc6-2815f7ea3e93"
      },
      "execution_count": 16,
      "outputs": [
        {
          "output_type": "stream",
          "name": "stdout",
          "text": [
            "[(3, 4, 5), (5, 12, 13), (6, 8, 10), (7, 24, 25), (8, 15, 17), (9, 12, 15), (10, 24, 26), (12, 16, 20), (15, 20, 25), (18, 24, 30), (20, 21, 29)]\n"
          ]
        }
      ]
    },
    {
      "cell_type": "markdown",
      "source": [
        "33.Develop a program that generates a list of all possible combinations of two lists using list comprehension"
      ],
      "metadata": {
        "id": "zyL_RPfDvBSM"
      }
    },
    {
      "cell_type": "code",
      "source": [
        "list1 = [1, 2, 3]\n",
        "list2 = ['a', 'b', 'c']\n",
        "\n",
        "combinations = [(x, y) for x in list1 for y in list2]\n",
        "\n",
        "print(combinations)\n"
      ],
      "metadata": {
        "id": "RcbMDA3AvGHz",
        "colab": {
          "base_uri": "https://localhost:8080/"
        },
        "outputId": "5c4be626-60b5-4ddd-9240-7e255372db81"
      },
      "execution_count": 17,
      "outputs": [
        {
          "output_type": "stream",
          "name": "stdout",
          "text": [
            "[(1, 'a'), (1, 'b'), (1, 'c'), (2, 'a'), (2, 'b'), (2, 'c'), (3, 'a'), (3, 'b'), (3, 'c')]\n"
          ]
        }
      ]
    },
    {
      "cell_type": "markdown",
      "source": [
        "34.Write a program that calculates the mean, median, and mode of a list of numbers using list\n",
        "comprehension."
      ],
      "metadata": {
        "id": "XBlwC_WDvGdm"
      }
    },
    {
      "cell_type": "code",
      "source": [
        "import statistics\n",
        "\n",
        "numbers = [1, 2, 2, 3, 4, 4, 5, 6, 6]\n",
        "\n",
        "mean = sum(numbers) / len(numbers)\n",
        "median = statistics.median(numbers)\n",
        "mode = statistics.mode(numbers)\n",
        "\n",
        "print(\"Mean:\", mean)\n",
        "print(\"Median:\", median)\n",
        "print(\"Mode:\", mode)\n"
      ],
      "metadata": {
        "id": "RnA9cGiIvJQb",
        "colab": {
          "base_uri": "https://localhost:8080/"
        },
        "outputId": "a61cadea-ad0d-4149-fcc2-24bd1c17d4a0"
      },
      "execution_count": 18,
      "outputs": [
        {
          "output_type": "stream",
          "name": "stdout",
          "text": [
            "Mean: 3.6666666666666665\n",
            "Median: 4\n",
            "Mode: 2\n"
          ]
        }
      ]
    },
    {
      "cell_type": "markdown",
      "source": [
        "35.Create a program that generates Pascal's triangle up to a specified number of rows using list\n",
        "comprehension"
      ],
      "metadata": {
        "id": "YAT0CoofvJig"
      }
    },
    {
      "cell_type": "code",
      "source": [
        "num_rows = 5\n",
        "\n",
        "pascals_triangle = [[1] * (row + 1) for row in range(num_rows)]\n",
        "\n",
        "for row in range(2, num_rows):\n",
        "    for col in range(1, row):\n",
        "        pascals_triangle[row][col] = pascals_triangle[row - 1][col - 1] + pascals_triangle[row - 1][col]\n",
        "\n",
        "for row in pascals_triangle:\n",
        "    print(row)\n"
      ],
      "metadata": {
        "id": "YF_WlbchvMTX",
        "colab": {
          "base_uri": "https://localhost:8080/"
        },
        "outputId": "0daa54b3-a6a9-4dcd-8b5b-a400abce1f57"
      },
      "execution_count": 20,
      "outputs": [
        {
          "output_type": "stream",
          "name": "stdout",
          "text": [
            "[1]\n",
            "[1, 1]\n",
            "[1, 2, 1]\n",
            "[1, 3, 3, 1]\n",
            "[1, 4, 6, 4, 1]\n"
          ]
        }
      ]
    },
    {
      "cell_type": "markdown",
      "source": [
        "36.Develop a program that calculates the sum of the digits of a factorial of numbers from 1 to 5 using list\n",
        "comprehension"
      ],
      "metadata": {
        "id": "KrrQhH8IvMmk"
      }
    },
    {
      "cell_type": "code",
      "source": [
        "def factorial(n):\n",
        "    result = 1\n",
        "    for i in range(1, n + 1):\n",
        "        result *= i\n",
        "    return result\n",
        "\n",
        "sums = [sum(int(digit) for digit in str(factorial(n))) for n in range(1, 6)]\n",
        "\n",
        "print(sums)\n"
      ],
      "metadata": {
        "id": "MYL9Y078vP0k",
        "colab": {
          "base_uri": "https://localhost:8080/"
        },
        "outputId": "fe2f19e7-65ec-44d9-b6d9-08cac3439bc0"
      },
      "execution_count": 26,
      "outputs": [
        {
          "output_type": "stream",
          "name": "stdout",
          "text": [
            "[1, 2, 6, 6, 3]\n"
          ]
        }
      ]
    },
    {
      "cell_type": "markdown",
      "source": [
        "37.Write a program that finds the longest word in a sentence using list comprehension."
      ],
      "metadata": {
        "id": "xM5Zo-kLvQHC"
      }
    },
    {
      "cell_type": "code",
      "source": [
        "sentence = \"This is an example sentence to find the longest word.\"\n",
        "\n",
        "words = sentence.split()\n",
        "longest_word = max(words, key=len)\n",
        "\n",
        "print(\"Longest word:\", longest_word)\n"
      ],
      "metadata": {
        "id": "8RBVq16QvXRd",
        "colab": {
          "base_uri": "https://localhost:8080/"
        },
        "outputId": "ac4c3d33-c5de-4637-8267-4a62b919d875"
      },
      "execution_count": 27,
      "outputs": [
        {
          "output_type": "stream",
          "name": "stdout",
          "text": [
            "Longest word: sentence\n"
          ]
        }
      ]
    },
    {
      "cell_type": "markdown",
      "source": [
        "38.Create a program that filters a list of strings to include only those with more than three vowels using list\n",
        "comprehension"
      ],
      "metadata": {
        "id": "OvIrQA7YvXj3"
      }
    },
    {
      "cell_type": "code",
      "source": [
        "words = [\"apple\", \"banana\", \"grapefruit\", \"kiwi\", \"cherry\", \"strawberry\"]\n",
        "\n",
        "filtered_words = [word for word in words if sum(1 for char in word if char.lower() in 'aeiou') > 3]\n",
        "\n",
        "print(filtered_words)\n"
      ],
      "metadata": {
        "id": "w4mbRCquvakt",
        "colab": {
          "base_uri": "https://localhost:8080/"
        },
        "outputId": "9e3e0e3c-8a23-4457-9cde-bab9d9946954"
      },
      "execution_count": 28,
      "outputs": [
        {
          "output_type": "stream",
          "name": "stdout",
          "text": [
            "['grapefruit']\n"
          ]
        }
      ]
    },
    {
      "cell_type": "markdown",
      "source": [
        "39.Develop a program that calculates the sum of the digits of numbers from 1 to 1000 using list\n",
        "comprehension"
      ],
      "metadata": {
        "id": "2YDR7ztqva3V"
      }
    },
    {
      "cell_type": "code",
      "source": [
        "sums = [sum(int(digit) for digit in str(n)) for n in range(1, 1001)]\n",
        "\n",
        "total_sum = sum(sums)\n",
        "\n",
        "print(total_sum)\n"
      ],
      "metadata": {
        "id": "PvQpsz_-vdyA",
        "colab": {
          "base_uri": "https://localhost:8080/"
        },
        "outputId": "7f6c1a82-f31d-4a9a-ed08-24e3f28aa737"
      },
      "execution_count": 29,
      "outputs": [
        {
          "output_type": "stream",
          "name": "stdout",
          "text": [
            "13501\n"
          ]
        }
      ]
    },
    {
      "cell_type": "markdown",
      "source": [
        "40.Write a program that generates a list of prime palindromic numbers using list comprehension"
      ],
      "metadata": {
        "id": "MfWlt_1HveFd"
      }
    },
    {
      "cell_type": "code",
      "source": [
        "def is_prime(num):\n",
        "    if num < 2:\n",
        "        return False\n",
        "    for i in range(2, int(num ** 0.5) + 1):\n",
        "        if num % i == 0:\n",
        "            return False\n",
        "    return True\n",
        "\n",
        "limit = 1000\n",
        "prime_palindromic_numbers = [num for num in range(2, limit) if is_prime(num) and str(num) == str(num)[::-1]]\n",
        "\n",
        "print(prime_palindromic_numbers)\n"
      ],
      "metadata": {
        "id": "-Yk8ReZVviXP",
        "colab": {
          "base_uri": "https://localhost:8080/"
        },
        "outputId": "39ab6143-c973-4e7a-c201-e881fc84eb4f"
      },
      "execution_count": 30,
      "outputs": [
        {
          "output_type": "stream",
          "name": "stdout",
          "text": [
            "[2, 3, 5, 7, 11, 101, 131, 151, 181, 191, 313, 353, 373, 383, 727, 757, 787, 797, 919, 929]\n"
          ]
        }
      ]
    },
    {
      "cell_type": "code",
      "source": [],
      "metadata": {
        "id": "tnmtXhhpdiaX"
      },
      "execution_count": null,
      "outputs": []
    }
  ]
}